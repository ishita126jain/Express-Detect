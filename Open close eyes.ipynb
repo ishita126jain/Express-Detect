{
 "cells": [
  {
   "cell_type": "code",
   "execution_count": 1,
   "id": "cc236181",
   "metadata": {},
   "outputs": [
    {
     "name": "stderr",
     "output_type": "stream",
     "text": [
      "2023-06-06 21:52:05.441659: I tensorflow/core/platform/cpu_feature_guard.cc:193] This TensorFlow binary is optimized with oneAPI Deep Neural Network Library (oneDNN) to use the following CPU instructions in performance-critical operations:  AVX2\n",
      "To enable them in other operations, rebuild TensorFlow with the appropriate compiler flags.\n"
     ]
    }
   ],
   "source": [
    "import matplotlib.pyplot as plt\n",
    "import numpy as np\n",
    "from glob import glob\n",
    "import cv2\n",
    "import random\n",
    "import os\n",
    "%matplotlib inline\n",
    "\n",
    "from tensorflow.keras.preprocessing.image import ImageDataGenerator\n",
    "from tensorflow.keras.layers import Dense, Conv2D, Flatten, Input\n",
    "from tensorflow.keras.layers import Activation, MaxPooling2D\n",
    "from tensorflow.keras.models import Model, Sequential\n",
    "from tensorflow.keras.optimizers import Adam\n",
    "from tensorflow.keras.callbacks import ModelCheckpoint, ReduceLROnPlateau\n",
    "from tensorflow.keras.utils import plot_model\n",
    "\n",
    "import tensorflow as tf"
   ]
  },
  {
   "cell_type": "code",
   "execution_count": 2,
   "id": "8f5cd98e",
   "metadata": {},
   "outputs": [
    {
     "data": {
      "image/png": "[encoded data removed]",
      "text/plain": [
       "<Figure size 720x720 with 1 Axes>"
      ]
     },
     "metadata": {
      "needs_background": "light"
     },
     "output_type": "display_data"
    },
    {
     "data": {
      "image/png": "[encoded data removed]",
      "text/plain": [
       "<Figure size 720x720 with 1 Axes>"
      ]
     },
     "metadata": {
      "needs_background": "light"
     },
     "output_type": "display_data"
    },
    {
     "data": {
      "image/png": "[encoded data removed]",
      "text/plain": [
       "<Figure size 720x720 with 1 Axes>"
      ]
     },
     "metadata": {
      "needs_background": "light"
     },
     "output_type": "display_data"
    },
    {
     "data": {
      "image/png": "[encoded data removed]",
      "text/plain": [
       "<Figure size 720x720 with 1 Axes>"
      ]
     },
     "metadata": {
      "needs_background": "light"
     },
     "output_type": "display_data"
    },
    {
     "data": {
      "image/png": "[encoded data removed]",
      "text/plain": [
       "<Figure size 720x720 with 1 Axes>"
      ]
     },
     "metadata": {
      "needs_background": "light"
     },
     "output_type": "display_data"
    },
    {
     "data": {
      "image/png": "[encoded data removed]",
      "text/plain": [
       "<Figure size 720x720 with 1 Axes>"
      ]
     },
     "metadata": {
      "needs_background": "light"
     },
     "output_type": "display_data"
    },
    {
     "data": {
      "image/png": "[encoded data removed]",
      "text/plain": [
       "<Figure size 720x720 with 1 Axes>"
      ]
     },
     "metadata": {
      "needs_background": "light"
     },
     "output_type": "display_data"
    },
    {
     "data": {
      "image/png": "[encoded data removed]",
      "text/plain": [
       "<Figure size 720x720 with 1 Axes>"
      ]
     },
     "metadata": {
      "needs_background": "light"
     },
     "output_type": "display_data"
    },
    {
     "data": {
      "image/png": "[encoded data removed]",
      "text/plain": [
       "<Figure size 720x720 with 1 Axes>"
      ]
     },
     "metadata": {
      "needs_background": "light"
     },
     "output_type": "display_data"
    }
   ],
   "source": [
    "images = glob(\"train_dataset/**/**\")\n",
    "for i in range(9):\n",
    "    image = random.choice(images)\n",
    "    plt.figure(figsize=(10,10))\n",
    "    plt.subplot(331+i)\n",
    "    plt.imshow(cv2.imread(image))\n",
    "    plt.axis(\"off\")"
   ]
  },
  {
   "cell_type": "code",
   "execution_count": 3,
   "id": "76924c98",
   "metadata": {},
   "outputs": [],
   "source": [
    "closedLeftEyes = glob(\"train_dataset/closedLeftEyes/**\")\n",
    "openLeftEyes = glob(\"train_dataset/openLeftEyes/**\")\n",
    "closedRightEyes = glob(\"train_dataset/closedRightEyes/**\")\n",
    "openRightEyes = glob(\"train_dataset/openRightEyes/**\")"
   ]
  },
  {
   "cell_type": "code",
   "execution_count": 4,
   "id": "e657b5a4",
   "metadata": {},
   "outputs": [],
   "source": [
    "open_eyes = []\n",
    "closed_eyes = []"
   ]
  },
  {
   "cell_type": "code",
   "execution_count": 5,
   "id": "d543be27",
   "metadata": {},
   "outputs": [],
   "source": [
    "def append_open(eyes):\n",
    "    \n",
    "    for image in eyes:\n",
    "        image = cv2.imread(image)\n",
    "        if (image is not None):\n",
    "            if image.shape == (24,24,3):\n",
    "                open_eyes.append(image)"
   ]
  },
  {
   "cell_type": "code",
   "execution_count": 6,
   "id": "253059c8",
   "metadata": {},
   "outputs": [],
   "source": [
    "append_open(openLeftEyes)\n",
    "append_open(openRightEyes)"
   ]
  },
  {
   "cell_type": "code",
   "execution_count": 7,
   "id": "045171ce",
   "metadata": {},
   "outputs": [],
   "source": [
    "def append_closed(eyes):\n",
    "    for image in eyes:\n",
    "        image = cv2.imread(image)\n",
    "        if (image is not None):\n",
    "            if image.shape == (24,24,3):\n",
    "                closed_eyes.append(image)"
   ]
  },
  {
   "cell_type": "code",
   "execution_count": 8,
   "id": "8baf3db1",
   "metadata": {},
   "outputs": [],
   "source": [
    "append_closed(closedLeftEyes)\n",
    "append_closed(closedRightEyes)"
   ]
  },
  {
   "cell_type": "code",
   "execution_count": 9,
   "id": "ee7c27bc",
   "metadata": {},
   "outputs": [
    {
     "name": "stdout",
     "output_type": "stream",
     "text": [
      "2462\n",
      "2384\n"
     ]
    }
   ],
   "source": [
    "print(len(open_eyes))\n",
    "print(len(closed_eyes))"
   ]
  },
  {
   "cell_type": "code",
   "execution_count": 10,
   "id": "00ef5e3b",
   "metadata": {},
   "outputs": [],
   "source": [
    "open_labels = [ 1 for i in range(len(open_eyes)) ]\n",
    "closed_labels = [ 0 for i in range(len(closed_eyes)) ]"
   ]
  },
  {
   "cell_type": "code",
   "execution_count": 11,
   "id": "c77d5eb3",
   "metadata": {},
   "outputs": [
    {
     "name": "stdout",
     "output_type": "stream",
     "text": [
      "2462\n",
      "2384\n"
     ]
    }
   ],
   "source": [
    "print(len(open_labels))\n",
    "print(len(closed_labels))"
   ]
  },
  {
   "cell_type": "code",
   "execution_count": 12,
   "id": "202c80fa",
   "metadata": {},
   "outputs": [
    {
     "data": {
      "text/plain": [
       "(4846, 24, 24, 3)"
      ]
     },
     "execution_count": 12,
     "metadata": {},
     "output_type": "execute_result"
    }
   ],
   "source": [
    "dataset = open_eyes + closed_eyes\n",
    "x = np.array(dataset)\n",
    "x.shape"
   ]
  },
  {
   "cell_type": "code",
   "execution_count": 13,
   "id": "2e49340c",
   "metadata": {},
   "outputs": [
    {
     "data": {
      "text/plain": [
       "(4846,)"
      ]
     },
     "execution_count": 13,
     "metadata": {},
     "output_type": "execute_result"
    }
   ],
   "source": [
    "label_dataset = open_labels+closed_labels\n",
    "y = np.array(label_dataset)\n",
    "y.shape"
   ]
  },
  {
   "cell_type": "code",
   "execution_count": 14,
   "id": "31eeeabe",
   "metadata": {},
   "outputs": [
    {
     "data": {
      "application/javascript": [
       "\n",
       "        if (window._pyforest_update_imports_cell) { window._pyforest_update_imports_cell('from sklearn.model_selection import train_test_split'); }\n",
       "    "
      ],
      "text/plain": [
       "<IPython.core.display.Javascript object>"
      ]
     },
     "metadata": {},
     "output_type": "display_data"
    }
   ],
   "source": [
    "x_train, x_test, y_train, y_test = train_test_split(x, y, test_size=0.3, random_state=1)"
   ]
  },
  {
   "cell_type": "code",
   "execution_count": 15,
   "id": "700c3609",
   "metadata": {},
   "outputs": [
    {
     "name": "stdout",
     "output_type": "stream",
     "text": [
      "(3392, 24, 24, 3)\n",
      "(1454, 24, 24, 3)\n",
      "(3392,)\n",
      "(1454,)\n"
     ]
    }
   ],
   "source": [
    "print(x_train.shape)\n",
    "print(x_test.shape)\n",
    "print(y_train.shape)\n",
    "print(y_test.shape)"
   ]
  },
  {
   "cell_type": "code",
   "execution_count": 16,
   "id": "29e1b93c",
   "metadata": {},
   "outputs": [],
   "source": [
    "def Convolution(input_tensor, filters, kernel_size):\n",
    "    x = Conv2D(filters = filters, kernel_size = kernel_size, padding = \"same\")(input_tensor)\n",
    "    x = Activation('relu')(x)\n",
    "    x = MaxPooling2D(pool_size = (2,2))(x)\n",
    "    \n",
    "    return x"
   ]
  },
  {
   "cell_type": "code",
   "execution_count": 17,
   "id": "97f7fd5e",
   "metadata": {},
   "outputs": [],
   "source": [
    "def Dense_f(input_tensor, nodes):\n",
    "    x = Dense(nodes)(input_tensor)\n",
    "    x = Activation('relu')(x)\n",
    "    \n",
    "    return x"
   ]
  },
  {
   "cell_type": "code",
   "execution_count": 18,
   "id": "4d021020",
   "metadata": {},
   "outputs": [],
   "source": [
    "def model_fer(input_shape):\n",
    "    inputs = Input(input_shape)\n",
    "    conv_1 = Convolution(inputs,24,(3,3))\n",
    "    conv_2 = Convolution(conv_1,48,(3,3))\n",
    "\n",
    "    flatten = Flatten()(conv_2)\n",
    "    \n",
    "    dense_1 = Dense_f(flatten,48)\n",
    "\n",
    "    output  = Dense(1, activation=\"sigmoid\")(dense_1)\n",
    "    model  =  Model(inputs=[inputs],outputs = [output])\n",
    "\n",
    "    return model\n",
    "\n"
   ]
  },
  {
   "cell_type": "code",
   "execution_count": 19,
   "id": "d7447c81",
   "metadata": {},
   "outputs": [
    {
     "name": "stdout",
     "output_type": "stream",
     "text": [
      "Model: \"model\"\n",
      "_________________________________________________________________\n",
      " Layer (type)                Output Shape              Param #   \n",
      "=================================================================\n",
      " input_1 (InputLayer)        [(None, 24, 24, 3)]       0         \n",
      "                                                                 \n",
      " conv2d (Conv2D)             (None, 24, 24, 24)        672       \n",
      "                                                                 \n",
      " activation (Activation)     (None, 24, 24, 24)        0         \n",
      "                                                                 \n",
      " max_pooling2d (MaxPooling2D  (None, 12, 12, 24)       0         \n",
      " )                                                               \n",
      "                                                                 \n",
      " conv2d_1 (Conv2D)           (None, 12, 12, 48)        10416     \n",
      "                                                                 \n",
      " activation_1 (Activation)   (None, 12, 12, 48)        0         \n",
      "                                                                 \n",
      " max_pooling2d_1 (MaxPooling  (None, 6, 6, 48)         0         \n",
      " 2D)                                                             \n",
      "                                                                 \n",
      " flatten (Flatten)           (None, 1728)              0         \n",
      "                                                                 \n",
      " dense (Dense)               (None, 48)                82992     \n",
      "                                                                 \n",
      " activation_2 (Activation)   (None, 48)                0         \n",
      "                                                                 \n",
      " dense_1 (Dense)             (None, 1)                 49        \n",
      "                                                                 \n",
      "=================================================================\n",
      "Total params: 94,129\n",
      "Trainable params: 94,129\n",
      "Non-trainable params: 0\n",
      "_________________________________________________________________\n"
     ]
    },
    {
     "name": "stderr",
     "output_type": "stream",
     "text": [
      "2023-06-06 21:52:12.253639: I tensorflow/core/platform/cpu_feature_guard.cc:193] This TensorFlow binary is optimized with oneAPI Deep Neural Network Library (oneDNN) to use the following CPU instructions in performance-critical operations:  AVX2\n",
      "To enable them in other operations, rebuild TensorFlow with the appropriate compiler flags.\n"
     ]
    }
   ],
   "source": [
    "model = model_fer((24,24,3))\n",
    "model.summary()"
   ]
  },
  {
   "cell_type": "code",
   "execution_count": 20,
   "id": "d6ba61f8",
   "metadata": {},
   "outputs": [],
   "source": [
    "model.compile(loss=['binary_crossentropy'] , optimizer = 'adam' , metrics =[\"accuracy\"])"
   ]
  },
  {
   "cell_type": "code",
   "execution_count": 21,
   "id": "4cf18f7f",
   "metadata": {},
   "outputs": [
    {
     "name": "stdout",
     "output_type": "stream",
     "text": [
      "Epoch 1/20\n",
      "  7/106 [>.............................] - ETA: 2s - loss: 18.4697 - accuracy: 0.5759"
     ]
    },
    {
     "name": "stderr",
     "output_type": "stream",
     "text": [
      "2023-06-06 21:52:13.512329: W tensorflow/tsl/framework/cpu_allocator_impl.cc:82] Allocation of 20279808 exceeds 10% of free system memory.\n",
      "2023-06-06 21:52:13.512601: W tensorflow/tsl/framework/cpu_allocator_impl.cc:82] Allocation of 20279808 exceeds 10% of free system memory.\n",
      "2023-06-06 21:52:13.546901: W tensorflow/tsl/framework/cpu_allocator_impl.cc:82] Allocation of 16298496 exceeds 10% of free system memory.\n",
      "2023-06-06 21:52:13.568936: W tensorflow/tsl/framework/cpu_allocator_impl.cc:82] Allocation of 20279808 exceeds 10% of free system memory.\n",
      "2023-06-06 21:52:13.569039: W tensorflow/tsl/framework/cpu_allocator_impl.cc:82] Allocation of 20279808 exceeds 10% of free system memory.\n"
     ]
    },
    {
     "name": "stdout",
     "output_type": "stream",
     "text": [
      "106/106 [==============================] - 3s 18ms/step - loss: 2.1280 - accuracy: 0.7255\n",
      "Epoch 2/20\n",
      "106/106 [==============================] - 2s 17ms/step - loss: 0.2599 - accuracy: 0.8983\n",
      "Epoch 3/20\n",
      "106/106 [==============================] - 2s 16ms/step - loss: 0.1881 - accuracy: 0.9290\n",
      "Epoch 4/20\n",
      "106/106 [==============================] - 2s 16ms/step - loss: 0.1362 - accuracy: 0.9475\n",
      "Epoch 5/20\n",
      "106/106 [==============================] - 2s 16ms/step - loss: 0.1259 - accuracy: 0.9508\n",
      "Epoch 6/20\n",
      "106/106 [==============================] - 2s 15ms/step - loss: 0.1046 - accuracy: 0.9634\n",
      "Epoch 7/20\n",
      "106/106 [==============================] - 2s 17ms/step - loss: 0.1000 - accuracy: 0.9608\n",
      "Epoch 8/20\n",
      "106/106 [==============================] - 2s 16ms/step - loss: 0.1134 - accuracy: 0.9573\n",
      "Epoch 9/20\n",
      "106/106 [==============================] - 2s 15ms/step - loss: 0.0847 - accuracy: 0.9679\n",
      "Epoch 10/20\n",
      "106/106 [==============================] - 2s 16ms/step - loss: 0.0947 - accuracy: 0.9652\n",
      "Epoch 11/20\n",
      "106/106 [==============================] - 2s 16ms/step - loss: 0.1112 - accuracy: 0.9590\n",
      "Epoch 12/20\n",
      "106/106 [==============================] - 2s 16ms/step - loss: 0.0858 - accuracy: 0.9702\n",
      "Epoch 13/20\n",
      "106/106 [==============================] - 2s 15ms/step - loss: 0.0706 - accuracy: 0.9741\n",
      "Epoch 14/20\n",
      "106/106 [==============================] - 2s 15ms/step - loss: 0.0618 - accuracy: 0.9773\n",
      "Epoch 15/20\n",
      "106/106 [==============================] - 1s 14ms/step - loss: 0.0789 - accuracy: 0.9717\n",
      "Epoch 16/20\n",
      "106/106 [==============================] - 2s 19ms/step - loss: 0.0708 - accuracy: 0.9723\n",
      "Epoch 17/20\n",
      "106/106 [==============================] - 2s 15ms/step - loss: 0.0578 - accuracy: 0.9773\n",
      "Epoch 18/20\n",
      "106/106 [==============================] - 2s 16ms/step - loss: 0.0604 - accuracy: 0.9764\n",
      "Epoch 19/20\n",
      "106/106 [==============================] - 2s 16ms/step - loss: 0.0605 - accuracy: 0.9785\n",
      "Epoch 20/20\n",
      "106/106 [==============================] - 2s 16ms/step - loss: 0.0562 - accuracy: 0.9800\n"
     ]
    }
   ],
   "source": [
    "history = model.fit(x_train, y_train, epochs=20)"
   ]
  },
  {
   "cell_type": "code",
   "execution_count": 22,
   "id": "f5c0ec69",
   "metadata": {},
   "outputs": [
    {
     "name": "stdout",
     "output_type": "stream",
     "text": [
      "46/46 [==============================] - 1s 8ms/step - loss: 0.1654 - accuracy: 0.9457\n"
     ]
    },
    {
     "data": {
      "text/plain": [
       "[0.16539724171161652, 0.9456671476364136]"
      ]
     },
     "execution_count": 22,
     "metadata": {},
     "output_type": "execute_result"
    }
   ],
   "source": [
    "model.evaluate(x_test,y_test)"
   ]
  },
  {
   "cell_type": "code",
   "execution_count": 26,
   "id": "37edc26d",
   "metadata": {},
   "outputs": [
    {
     "data": {
      "text/plain": [
       "1"
      ]
     },
     "execution_count": 26,
     "metadata": {},
     "output_type": "execute_result"
    }
   ],
   "source": [
    "y_test[0]"
   ]
  },
  {
   "cell_type": "code",
   "execution_count": 24,
   "id": "465a540c",
   "metadata": {},
   "outputs": [
    {
     "name": "stdout",
     "output_type": "stream",
     "text": [
      "106/106 [==============================] - 1s 7ms/step\n"
     ]
    },
    {
     "data": {
      "text/plain": [
       "array([[7.1782804e-01],\n",
       "       [9.7419405e-01],\n",
       "       [4.0174794e-04],\n",
       "       ...,\n",
       "       [9.9982399e-01],\n",
       "       [2.1824087e-01],\n",
       "       [5.1316899e-01]], dtype=float32)"
      ]
     },
     "execution_count": 24,
     "metadata": {},
     "output_type": "execute_result"
    }
   ],
   "source": [
    "model.predict(x_train)"
   ]
  },
  {
   "cell_type": "code",
   "execution_count": 25,
   "id": "15b33694",
   "metadata": {},
   "outputs": [],
   "source": [
    "model_json = model.to_json()\n",
    "with open(\"model.json\", \"w\") as json_file:\n",
    "    json_file.write(model_json)\n",
    "# serialize weights to HDF5\n",
    "model.save_weights(\"model.h5\")"
   ]
  }
 ],
 "metadata": {
  "kernelspec": {
   "display_name": "Python 3 (ipykernel)",
   "language": "python",
   "name": "python3"
  },
  "language_info": {
   "codemirror_mode": {
    "name": "ipython",
    "version": 3
   },
   "file_extension": ".py",
   "mimetype": "text/x-python",
   "name": "python",
   "nbconvert_exporter": "python",
   "pygments_lexer": "ipython3",
   "version": "3.8.10"
  }
 },
 "nbformat": 4,
 "nbformat_minor": 5
}
