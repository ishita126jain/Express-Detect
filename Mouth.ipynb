{
 "cells": [
  {
   "cell_type": "code",
   "execution_count": 1,
   "id": "d94dc80d",
   "metadata": {},
   "outputs": [],
   "source": [
    "import os\n",
    "import cv2\n",
    "import numpy as np\n",
    "from tensorflow.keras.models import Sequential\n",
    "from tensorflow.keras.layers import Conv2D, MaxPooling2D, Flatten, Dense\n",
    "from tensorflow.keras.preprocessing.image import ImageDataGenerator\n",
    "from tensorflow.keras.callbacks import ModelCheckpoint\n",
    "from flask import Flask, render_template, request\n",
    "from PIL import Image\n"
   ]
  },
  {
   "cell_type": "code",
   "execution_count": 2,
   "id": "46ba5b1f",
   "metadata": {},
   "outputs": [],
   "source": [
    "dataset_path = 'dataset_mouth'\n",
    "saved_model_path = 'model_mouth.h5'\n"
   ]
  },
  {
   "cell_type": "code",
   "execution_count": 3,
   "id": "843c035a",
   "metadata": {},
   "outputs": [],
   "source": [
    "image_size = (64, 64)\n",
    "batch_size = 32\n",
    "epochs = 10\n"
   ]
  },
  {
   "cell_type": "code",
   "execution_count": 4,
   "id": "3f43c6f5",
   "metadata": {},
   "outputs": [],
   "source": [
    "# Create the mouth detection model\n",
    "model = Sequential()\n",
    "model.add(Conv2D(32, (3, 3), activation='relu', input_shape=(image_size[0], image_size[1], 3)))\n",
    "model.add(MaxPooling2D((2, 2)))\n",
    "model.add(Conv2D(64, (3, 3), activation='relu'))\n",
    "model.add(MaxPooling2D((2, 2)))\n",
    "model.add(Flatten())\n",
    "model.add(Dense(64, activation='relu'))\n",
    "model.add(Dense(1, activation='sigmoid'))\n",
    "model.compile(optimizer='adam', loss='binary_crossentropy', metrics=['accuracy'])\n"
   ]
  },
  {
   "cell_type": "code",
   "execution_count": 5,
   "id": "179422c6",
   "metadata": {},
   "outputs": [],
   "source": [
    "def preprocess_dataset(dataset_path):\n",
    "    # Preprocess the dataset by resizing images and creating label directories\n",
    "    open_dir = os.path.join(dataset_path, 'class0')\n",
    "    closed_dir = os.path.join(dataset_path, 'class1')\n",
    "\n",
    "    if not os.path.exists(open_dir):\n",
    "        os.makedirs(open_dir)\n",
    "    if not os.path.exists(closed_dir):\n",
    "        os.makedirs(closed_dir)\n",
    "\n",
    "    for filename in os.listdir(dataset_path):\n",
    "        if filename.endswith('.jpg'):\n",
    "            if 'class0' in filename:\n",
    "                image_dir = open_dir\n",
    "            else:\n",
    "                image_dir = closed_dir\n",
    "\n",
    "            img = cv2.imread(os.path.join(dataset_path, filename))\n",
    "            img = cv2.resize(img, image_size)\n",
    "            cv2.imwrite(os.path.join(image_dir, filename), img)\n",
    "\n",
    "preprocess_dataset(dataset_path)"
   ]
  },
  {
   "cell_type": "code",
   "execution_count": 6,
   "id": "3c56e70f",
   "metadata": {},
   "outputs": [
    {
     "name": "stdout",
     "output_type": "stream",
     "text": [
      "Found 4096 images belonging to 2 classes.\n",
      "Found 1023 images belonging to 2 classes.\n"
     ]
    }
   ],
   "source": [
    "datagen = ImageDataGenerator(rescale=1.0/255.0, validation_split=0.2)\n",
    "\n",
    "train_generator = datagen.flow_from_directory(\n",
    "    dataset_path,\n",
    "    target_size=(64, 64),\n",
    "    batch_size=32,\n",
    "    class_mode='binary',\n",
    "    subset='training'\n",
    ")\n",
    "\n",
    "validation_generator = datagen.flow_from_directory(\n",
    "    dataset_path,\n",
    "    target_size=(64, 64),\n",
    "    batch_size=32,\n",
    "    class_mode='binary',\n",
    "    subset='validation'\n",
    ")\n",
    "\n",
    "\n"
   ]
  },
  {
   "cell_type": "code",
   "execution_count": 7,
   "id": "e3809ea9",
   "metadata": {},
   "outputs": [
    {
     "name": "stdout",
     "output_type": "stream",
     "text": [
      "Epoch 1/10\n",
      "128/128 [==============================] - 19s 133ms/step - loss: 0.2649 - accuracy: 0.8877 - val_loss: 0.3384 - val_accuracy: 0.8427\n",
      "Epoch 2/10\n",
      "128/128 [==============================] - 12s 95ms/step - loss: 0.1437 - accuracy: 0.9487 - val_loss: 0.2230 - val_accuracy: 0.9022\n",
      "Epoch 3/10\n",
      "128/128 [==============================] - 12s 90ms/step - loss: 0.1121 - accuracy: 0.9622 - val_loss: 0.1875 - val_accuracy: 0.9284\n",
      "Epoch 4/10\n",
      "128/128 [==============================] - 12s 90ms/step - loss: 0.0830 - accuracy: 0.9751 - val_loss: 0.1698 - val_accuracy: 0.9345\n",
      "Epoch 5/10\n",
      "128/128 [==============================] - 11s 87ms/step - loss: 0.0711 - accuracy: 0.9771 - val_loss: 0.1930 - val_accuracy: 0.9284\n",
      "Epoch 6/10\n",
      "128/128 [==============================] - 11s 87ms/step - loss: 0.0647 - accuracy: 0.9797 - val_loss: 0.2480 - val_accuracy: 0.9103\n",
      "Epoch 7/10\n",
      "128/128 [==============================] - 11s 88ms/step - loss: 0.0470 - accuracy: 0.9841 - val_loss: 0.2775 - val_accuracy: 0.8710\n",
      "Epoch 8/10\n",
      "128/128 [==============================] - 11s 88ms/step - loss: 0.0453 - accuracy: 0.9866 - val_loss: 0.2138 - val_accuracy: 0.9395\n",
      "Epoch 9/10\n",
      "128/128 [==============================] - 11s 88ms/step - loss: 0.0395 - accuracy: 0.9875 - val_loss: 0.3331 - val_accuracy: 0.8942\n",
      "Epoch 10/10\n",
      "128/128 [==============================] - 11s 88ms/step - loss: 0.0275 - accuracy: 0.9927 - val_loss: 0.1973 - val_accuracy: 0.9486\n"
     ]
    },
    {
     "data": {
      "text/plain": [
       "<keras.callbacks.History at 0x25b60b382e0>"
      ]
     },
     "execution_count": 7,
     "metadata": {},
     "output_type": "execute_result"
    }
   ],
   "source": [
    "model.fit(\n",
    "    train_generator,\n",
    "    steps_per_epoch=train_generator.samples // train_generator.batch_size,\n",
    "    epochs=10,\n",
    "    validation_data=validation_generator,\n",
    "    validation_steps=validation_generator.samples // validation_generator.batch_size,\n",
    "    callbacks=[ModelCheckpoint(saved_model_path, save_best_only=True)]\n",
    ")"
   ]
  },
  {
   "cell_type": "code",
   "execution_count": 9,
   "id": "073f6229",
   "metadata": {},
   "outputs": [
    {
     "name": "stdout",
     "output_type": "stream",
     "text": [
      "32/32 [==============================] - 2s 75ms/step - loss: 0.1958 - accuracy: 0.9482\n"
     ]
    },
    {
     "data": {
      "text/plain": [
       "[0.1957891285419464, 0.9481915831565857]"
      ]
     },
     "execution_count": 9,
     "metadata": {},
     "output_type": "execute_result"
    }
   ],
   "source": [
    "model.evaluate(validation_generator)"
   ]
  },
  {
   "cell_type": "code",
   "execution_count": 10,
   "id": "d0da51a2",
   "metadata": {},
   "outputs": [],
   "source": [
    "model_json = model.to_json()\n",
    "with open(\"model_mouth.json\",\"w\") as json_file:\n",
    "    json_file.write(model_json)"
   ]
  }
 ],
 "metadata": {
  "kernelspec": {
   "display_name": "Python 3 (ipykernel)",
   "language": "python",
   "name": "python3"
  },
  "language_info": {
   "codemirror_mode": {
    "name": "ipython",
    "version": 3
   },
   "file_extension": ".py",
   "mimetype": "text/x-python",
   "name": "python",
   "nbconvert_exporter": "python",
   "pygments_lexer": "ipython3",
   "version": "3.9.13"
  }
 },
 "nbformat": 4,
 "nbformat_minor": 5
}
