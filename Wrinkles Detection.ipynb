{
 "cells": [
  {
   "cell_type": "code",
   "execution_count": 24,
   "id": "d94dc80d",
   "metadata": {},
   "outputs": [],
   "source": [
    "import os\n",
    "import cv2\n",
    "import numpy as np\n",
    "from tensorflow.keras.models import Sequential\n",
    "from tensorflow.keras.layers import Conv2D, MaxPooling2D, Flatten, Dense\n",
    "from tensorflow.keras.preprocessing.image import ImageDataGenerator\n",
    "from tensorflow.keras.callbacks import ModelCheckpoint\n",
    "from flask import Flask, render_template, request\n",
    "from PIL import Image\n"
   ]
  },
  {
   "cell_type": "code",
   "execution_count": 25,
   "id": "46ba5b1f",
   "metadata": {},
   "outputs": [],
   "source": [
    "dataset_path = 'datasets'\n",
    "saved_model_path = 'model_wrinkle.h5'\n"
   ]
  },
  {
   "cell_type": "code",
   "execution_count": 26,
   "id": "843c035a",
   "metadata": {},
   "outputs": [],
   "source": [
    "image_size = (64, 64)\n",
    "batch_size = 32\n",
    "epochs = 10\n"
   ]
  },
  {
   "cell_type": "code",
   "execution_count": 27,
   "id": "3f43c6f5",
   "metadata": {},
   "outputs": [],
   "source": [
    "# Create the mouth detection model\n",
    "model = Sequential()\n",
    "model.add(Conv2D(32, (3, 3), activation='relu', input_shape=(image_size[0], image_size[1], 3)))\n",
    "model.add(MaxPooling2D((2, 2)))\n",
    "model.add(Conv2D(64, (3, 3), activation='relu'))\n",
    "model.add(MaxPooling2D((2, 2)))\n",
    "model.add(Flatten())\n",
    "model.add(Dense(64, activation='relu'))\n",
    "model.add(Dense(1, activation='sigmoid'))\n",
    "model.compile(optimizer='adam', loss='binary_crossentropy', metrics=['accuracy'])\n"
   ]
  },
  {
   "cell_type": "code",
   "execution_count": 28,
   "id": "179422c6",
   "metadata": {},
   "outputs": [],
   "source": [
    "def preprocess_dataset(dataset_path):\n",
    "    # Preprocess the dataset by resizing images and creating label directories\n",
    "    open_dir = os.path.join(dataset_path, 'NoWrinkles')\n",
    "    closed_dir = os.path.join(dataset_path, 'Wrinkled')\n",
    "\n",
    "    if not os.path.exists(open_dir):\n",
    "        os.makedirs(open_dir)\n",
    "    if not os.path.exists(closed_dir):\n",
    "        os.makedirs(closed_dir)\n",
    "\n",
    "    for filename in os.listdir(dataset_path):\n",
    "        if filename.endswith('.jpg'):\n",
    "            if 'class0' in filename:\n",
    "                image_dir = open_dir\n",
    "            else:\n",
    "                image_dir = closed_dir\n",
    "\n",
    "            img = cv2.imread(os.path.join(dataset_path, filename))\n",
    "            img = cv2.resize(img, image_size)\n",
    "            cv2.imwrite(os.path.join(image_dir, filename), img)\n",
    "\n",
    "preprocess_dataset(dataset_path)"
   ]
  },
  {
   "cell_type": "code",
   "execution_count": 29,
   "id": "3c56e70f",
   "metadata": {},
   "outputs": [
    {
     "name": "stdout",
     "output_type": "stream",
     "text": [
      "Found 853 images belonging to 2 classes.\n"
     ]
    },
    {
     "name": "stdout",
     "output_type": "stream",
     "text": [
      "Found 212 images belonging to 2 classes.\n"
     ]
    }
   ],
   "source": [
    "datagen = ImageDataGenerator(rescale=1.0/255.0, validation_split=0.2)\n",
    "\n",
    "train_generator = datagen.flow_from_directory(\n",
    "    dataset_path,\n",
    "    target_size=(64, 64),\n",
    "    batch_size=32,\n",
    "    class_mode='binary',\n",
    "    subset='training'\n",
    ")\n",
    "\n",
    "validation_generator = datagen.flow_from_directory(\n",
    "    dataset_path,\n",
    "    target_size=(64, 64),\n",
    "    batch_size=32,\n",
    "    class_mode='binary',\n",
    "    subset='validation'\n",
    ")\n",
    "\n",
    "\n"
   ]
  },
  {
   "cell_type": "code",
   "execution_count": 30,
   "id": "e3809ea9",
   "metadata": {},
   "outputs": [
    {
     "name": "stdout",
     "output_type": "stream",
     "text": [
      "Epoch 1/20\n",
      "26/26 [==============================] - 3s 100ms/step - loss: 0.6234 - accuracy: 0.6480 - val_loss: 0.6408 - val_accuracy: 0.4948\n",
      "Epoch 2/20\n",
      "26/26 [==============================] - 2s 92ms/step - loss: 0.4260 - accuracy: 0.7909 - val_loss: 0.5269 - val_accuracy: 0.6719\n",
      "Epoch 3/20\n",
      "26/26 [==============================] - 2s 93ms/step - loss: 0.3927 - accuracy: 0.8185 - val_loss: 0.5048 - val_accuracy: 0.6667\n",
      "Epoch 4/20\n",
      "26/26 [==============================] - 2s 93ms/step - loss: 0.3481 - accuracy: 0.8441 - val_loss: 0.4477 - val_accuracy: 0.6771\n",
      "Epoch 5/20\n",
      "26/26 [==============================] - 3s 112ms/step - loss: 0.3507 - accuracy: 0.8404 - val_loss: 0.3755 - val_accuracy: 0.8490\n",
      "Epoch 6/20\n",
      "26/26 [==============================] - 3s 113ms/step - loss: 0.3155 - accuracy: 0.8551 - val_loss: 0.3674 - val_accuracy: 0.8594\n",
      "Epoch 7/20\n",
      "26/26 [==============================] - 3s 110ms/step - loss: 0.3242 - accuracy: 0.8660 - val_loss: 0.5470 - val_accuracy: 0.6406\n",
      "Epoch 8/20\n",
      "26/26 [==============================] - 3s 110ms/step - loss: 0.3290 - accuracy: 0.8526 - val_loss: 0.3491 - val_accuracy: 0.9010\n",
      "Epoch 9/20\n",
      "26/26 [==============================] - 3s 106ms/step - loss: 0.3086 - accuracy: 0.8697 - val_loss: 0.3556 - val_accuracy: 0.8125\n",
      "Epoch 10/20\n",
      "26/26 [==============================] - 3s 107ms/step - loss: 0.2684 - accuracy: 0.8831 - val_loss: 0.3675 - val_accuracy: 0.8073\n",
      "Epoch 11/20\n",
      "26/26 [==============================] - 3s 106ms/step - loss: 0.2589 - accuracy: 0.8819 - val_loss: 0.4137 - val_accuracy: 0.7812\n",
      "Epoch 12/20\n",
      "26/26 [==============================] - 3s 108ms/step - loss: 0.2697 - accuracy: 0.8855 - val_loss: 0.3244 - val_accuracy: 0.8490\n",
      "Epoch 13/20\n",
      "26/26 [==============================] - 3s 106ms/step - loss: 0.2704 - accuracy: 0.8794 - val_loss: 0.3267 - val_accuracy: 0.8802\n",
      "Epoch 14/20\n",
      "26/26 [==============================] - 3s 109ms/step - loss: 0.2667 - accuracy: 0.8904 - val_loss: 0.3383 - val_accuracy: 0.8385\n",
      "Epoch 15/20\n",
      "26/26 [==============================] - 3s 107ms/step - loss: 0.2475 - accuracy: 0.8904 - val_loss: 0.5399 - val_accuracy: 0.6771\n",
      "Epoch 16/20\n",
      "26/26 [==============================] - 3s 109ms/step - loss: 0.2984 - accuracy: 0.8831 - val_loss: 0.3638 - val_accuracy: 0.8125\n",
      "Epoch 17/20\n",
      "26/26 [==============================] - 3s 105ms/step - loss: 0.2407 - accuracy: 0.9026 - val_loss: 0.2347 - val_accuracy: 0.8854\n",
      "Epoch 18/20\n",
      "26/26 [==============================] - 3s 106ms/step - loss: 0.2148 - accuracy: 0.9123 - val_loss: 0.2396 - val_accuracy: 0.9167\n",
      "Epoch 19/20\n",
      "26/26 [==============================] - 3s 105ms/step - loss: 0.2342 - accuracy: 0.9099 - val_loss: 0.3073 - val_accuracy: 0.8698\n",
      "Epoch 20/20\n",
      "26/26 [==============================] - 3s 107ms/step - loss: 0.2782 - accuracy: 0.8952 - val_loss: 0.3329 - val_accuracy: 0.8854\n"
     ]
    },
    {
     "data": {
      "text/plain": [
       "<keras.callbacks.History at 0x21a6c9fef40>"
      ]
     },
     "execution_count": 30,
     "metadata": {},
     "output_type": "execute_result"
    }
   ],
   "source": [
    "model.fit(\n",
    "    train_generator,\n",
    "    steps_per_epoch=train_generator.samples // train_generator.batch_size,\n",
    "    epochs=20,\n",
    "    validation_data=validation_generator,\n",
    "    validation_steps=validation_generator.samples // validation_generator.batch_size,\n",
    "    callbacks=[ModelCheckpoint(saved_model_path, save_best_only=True)]\n",
    ")"
   ]
  },
  {
   "cell_type": "code",
   "execution_count": 31,
   "id": "073f6229",
   "metadata": {},
   "outputs": [
    {
     "name": "stdout",
     "output_type": "stream",
     "text": [
      "7/7 [==============================] - 0s 28ms/step - loss: 0.3370 - accuracy: 0.8821\n"
     ]
    },
    {
     "data": {
      "text/plain": [
       "[0.33700037002563477, 0.8820754885673523]"
      ]
     },
     "execution_count": 31,
     "metadata": {},
     "output_type": "execute_result"
    }
   ],
   "source": [
    "model.evaluate(validation_generator)"
   ]
  },
  {
   "cell_type": "code",
   "execution_count": null,
   "id": "d0da51a2",
   "metadata": {},
   "outputs": [],
   "source": [
    "model_json = model.to_json()\n",
    "with open(\"model_wrinkle.json\",\"w\") as json_file:\n",
    "    json_file.write(model_json)"
   ]
  }
 ],
 "metadata": {
  "kernelspec": {
   "display_name": "Python 3 (ipykernel)",
   "language": "python",
   "name": "python3"
  },
  "language_info": {
   "codemirror_mode": {
    "name": "ipython",
    "version": 3
   },
   "file_extension": ".py",
   "mimetype": "text/x-python",
   "name": "python",
   "nbconvert_exporter": "python",
   "pygments_lexer": "ipython3",
   "version": "3.9.13"
  }
 },
 "nbformat": 4,
 "nbformat_minor": 5
}
